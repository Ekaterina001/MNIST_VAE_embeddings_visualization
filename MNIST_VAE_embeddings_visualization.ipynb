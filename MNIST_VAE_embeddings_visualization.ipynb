{
 "cells": [
  {
   "cell_type": "code",
   "execution_count": 1,
   "metadata": {
    "colab": {},
    "colab_type": "code",
    "id": "RZ8pLL8Vg599"
   },
   "outputs": [],
   "source": [
    "import torch\n",
    "import torch.nn as nn\n",
    "import torch.optim as optim\n",
    "import torch.nn.functional as F\n",
    "import torchvision\n",
    "import numpy as np\n",
    "from torch.utils.data.sampler import SubsetRandomSampler\n",
    "import matplotlib.pyplot as plt"
   ]
  },
  {
   "cell_type": "code",
   "execution_count": 2,
   "metadata": {
    "colab": {},
    "colab_type": "code",
    "id": "hJiW3WBzhBfH"
   },
   "outputs": [],
   "source": [
    "batch_size_train = 128\n",
    "batch_size_test = 128\n",
    "batch_size = 128"
   ]
  },
  {
   "cell_type": "code",
   "execution_count": 3,
   "metadata": {
    "colab": {
     "base_uri": "https://localhost:8080/",
     "height": 34
    },
    "colab_type": "code",
    "id": "NpLGq6IlhBhu",
    "outputId": "4c07ce23-bf7f-4b16-e701-3a937e39d258"
   },
   "outputs": [
    {
     "name": "stdout",
     "output_type": "stream",
     "text": [
      "cuda:0\n"
     ]
    }
   ],
   "source": [
    "use_cuda = torch.cuda.is_available()\n",
    "device = torch.device(\"cuda:0\" if use_cuda else \"cpu\")\n",
    "print(device)\n",
    "seed = 239"
   ]
  },
  {
   "cell_type": "markdown",
   "metadata": {
    "colab_type": "text",
    "id": "d3cTpOf1hLlf"
   },
   "source": [
    "#### *Ищем параметры нормализации*"
   ]
  },
  {
   "cell_type": "code",
   "execution_count": 4,
   "metadata": {
    "colab": {
     "base_uri": "https://localhost:8080/",
     "height": 383,
     "referenced_widgets": [
      "2de32c529cf1439e80cfc03c76b52a89",
      "21c41fd5f4cc46c6840f083629e1df42",
      "4316b9b94ce049ae850afa17ac7633c9",
      "7c5a28e04f0f4cfca58f53162fd9ce91",
      "e9e11a2c35304557bc0b8d2ab43def40",
      "336e66f868eb44d4930a9e6070f973d0",
      "e27aaa49fe444235a16864552a1ee10e",
      "23c01d862fb3476f8dc51fef1c1762a7",
      "834467c7181e4ee3a0fb596007f35d2b",
      "09420210b6eb4504b804fa0c1aa422b5",
      "bc3a44e32fb142c4a1c828368b32c94b",
      "9445ac0b7a884328b31209e6e7ad5fd0",
      "3ef4be4f26214e6687877cf7b397238e",
      "3fc02344eff245d3bed0ec7cd2263762",
      "ac33ad231f7a48cca3875da6e330f02b",
      "0f8c2b872fcc4819bc09fb960232e51e",
      "91c8db6820ab46d19562aea9b3551bda",
      "f3b07e3c29f840ae9031f3b737b2400b",
      "ae31c9fce25e4d539e4c466509a5eade",
      "5a614b8ff8494586a8f85fa4ee62c029",
      "af6958ac345141ab94f3035c8a89891b",
      "c1c2dd21298a4f39a93b8fb836bceada",
      "dc1a8c37e71b4e2d9f873a2082a06ca3",
      "08c32d701e624feeb276cdce17083579",
      "c44a2832a99842fbae252e6fb522033b",
      "0daaebb9643a4496975c6dd921d4698b",
      "fef51ccae87b44ba8c77ec5187ec029a",
      "99103f216b874933b55c41af01091ce1",
      "48eea2b7d1f04637b43e8ee899c95150",
      "403014039a604f91ad28821416f7156c",
      "fb36604bdc7d446dbc06af2429d2c7de",
      "3fd04c0ea5ea43adada35b6d1c0727ad"
     ]
    },
    "colab_type": "code",
    "id": "Jt3cTdLbhBke",
    "outputId": "6c9ffc6c-5938-492c-a569-ee4f787d0932"
   },
   "outputs": [
    {
     "name": "stdout",
     "output_type": "stream",
     "text": [
      "Downloading http://yann.lecun.com/exdb/mnist/train-images-idx3-ubyte.gz to /files/MNIST/raw/train-images-idx3-ubyte.gz\n"
     ]
    },
    {
     "data": {
      "application/vnd.jupyter.widget-view+json": {
       "model_id": "2de32c529cf1439e80cfc03c76b52a89",
       "version_major": 2,
       "version_minor": 0
      },
      "text/plain": [
       "HBox(children=(FloatProgress(value=1.0, bar_style='info', max=1.0), HTML(value='')))"
      ]
     },
     "metadata": {
      "tags": []
     },
     "output_type": "display_data"
    },
    {
     "name": "stdout",
     "output_type": "stream",
     "text": [
      "Extracting /files/MNIST/raw/train-images-idx3-ubyte.gz to /files/MNIST/raw\n",
      "Downloading http://yann.lecun.com/exdb/mnist/train-labels-idx1-ubyte.gz to /files/MNIST/raw/train-labels-idx1-ubyte.gz\n"
     ]
    },
    {
     "data": {
      "application/vnd.jupyter.widget-view+json": {
       "model_id": "834467c7181e4ee3a0fb596007f35d2b",
       "version_major": 2,
       "version_minor": 0
      },
      "text/plain": [
       "HBox(children=(FloatProgress(value=1.0, bar_style='info', max=1.0), HTML(value='')))"
      ]
     },
     "metadata": {
      "tags": []
     },
     "output_type": "display_data"
    },
    {
     "name": "stdout",
     "output_type": "stream",
     "text": [
      "Extracting /files/MNIST/raw/train-labels-idx1-ubyte.gz to /files/MNIST/raw\n",
      "Downloading http://yann.lecun.com/exdb/mnist/t10k-images-idx3-ubyte.gz to /files/MNIST/raw/t10k-images-idx3-ubyte.gz\n",
      "\n"
     ]
    },
    {
     "data": {
      "application/vnd.jupyter.widget-view+json": {
       "model_id": "91c8db6820ab46d19562aea9b3551bda",
       "version_major": 2,
       "version_minor": 0
      },
      "text/plain": [
       "HBox(children=(FloatProgress(value=1.0, bar_style='info', max=1.0), HTML(value='')))"
      ]
     },
     "metadata": {
      "tags": []
     },
     "output_type": "display_data"
    },
    {
     "name": "stdout",
     "output_type": "stream",
     "text": [
      "Extracting /files/MNIST/raw/t10k-images-idx3-ubyte.gz to /files/MNIST/raw\n",
      "Downloading http://yann.lecun.com/exdb/mnist/t10k-labels-idx1-ubyte.gz to /files/MNIST/raw/t10k-labels-idx1-ubyte.gz\n"
     ]
    },
    {
     "data": {
      "application/vnd.jupyter.widget-view+json": {
       "model_id": "c44a2832a99842fbae252e6fb522033b",
       "version_major": 2,
       "version_minor": 0
      },
      "text/plain": [
       "HBox(children=(FloatProgress(value=1.0, bar_style='info', max=1.0), HTML(value='')))"
      ]
     },
     "metadata": {
      "tags": []
     },
     "output_type": "display_data"
    },
    {
     "name": "stdout",
     "output_type": "stream",
     "text": [
      "Extracting /files/MNIST/raw/t10k-labels-idx1-ubyte.gz to /files/MNIST/raw\n",
      "Processing...\n",
      "Done!\n"
     ]
    },
    {
     "name": "stderr",
     "output_type": "stream",
     "text": [
      "/usr/local/lib/python3.6/dist-packages/torchvision/datasets/mnist.py:469: UserWarning: The given NumPy array is not writeable, and PyTorch does not support non-writeable tensors. This means you can write to the underlying (supposedly non-writeable) NumPy array using the tensor. You may want to copy the array to protect its data or make it writeable before converting it to a tensor. This type of warning will be suppressed for the rest of this program. (Triggered internally at  /pytorch/torch/csrc/utils/tensor_numpy.cpp:141.)\n",
      "  return torch.from_numpy(parsed.astype(m[2], copy=False)).view(*s)\n"
     ]
    }
   ],
   "source": [
    "data = torchvision.datasets.MNIST('/files/', download=True,\n",
    "                             transform=torchvision.transforms.Compose([torchvision.transforms.Grayscale(),\n",
    "                               torchvision.transforms.ToTensor(),\n",
    "                               \n",
    "                             ]))\n",
    "data_loader = torch.utils.data.DataLoader(data, batch_size=batch_size)"
   ]
  },
  {
   "cell_type": "code",
   "execution_count": 5,
   "metadata": {
    "colab": {
     "base_uri": "https://localhost:8080/",
     "height": 67
    },
    "colab_type": "code",
    "id": "WWOAK0NnhPVJ",
    "outputId": "13dffb00-c300-4471-d741-c0e4fbd057ef"
   },
   "outputs": [
    {
     "name": "stdout",
     "output_type": "stream",
     "text": [
      "\n",
      "tensor([0.1307])\n",
      "tensor([0.3015])\n"
     ]
    }
   ],
   "source": [
    "mean = 0.\n",
    "std = 0.\n",
    "for x, _ in data_loader:\n",
    "    batch_samples = x.size(0) \n",
    "    x = x.view(batch_samples, x.size(1), -1)\n",
    "    mean += x.mean(2).sum(0)\n",
    "    std += x.std(2).sum(0)\n",
    "\n",
    "mean /= len(data_loader.dataset)\n",
    "std /= len(data_loader.dataset)\n",
    "\n",
    "print(mean)\n",
    "print(std)"
   ]
  },
  {
   "cell_type": "markdown",
   "metadata": {
    "colab_type": "text",
    "id": "OpcoYRn1hYPA"
   },
   "source": [
    "#### *Загрузка данных*"
   ]
  },
  {
   "cell_type": "code",
   "execution_count": 6,
   "metadata": {
    "colab": {},
    "colab_type": "code",
    "id": "0s5LGgKYhPX4"
   },
   "outputs": [],
   "source": [
    "data_train=torchvision.datasets.MNIST('/files/', train=True, download=True,\n",
    "                             transform=torchvision.transforms.Compose([torchvision.transforms.Grayscale(),\n",
    "                               torchvision.transforms.ToTensor(),\n",
    "                               torchvision.transforms.Normalize(mean, std)\n",
    "                             ]))\n",
    "\n",
    "data_test=torchvision.datasets.MNIST('/files/', train=False, download=True,\n",
    "                             transform=torchvision.transforms.Compose([torchvision.transforms.Grayscale(),\n",
    "                               torchvision.transforms.ToTensor(),\n",
    "                               torchvision.transforms.Normalize(mean, std)\n",
    "                             ]))"
   ]
  },
  {
   "cell_type": "code",
   "execution_count": 7,
   "metadata": {
    "colab": {},
    "colab_type": "code",
    "id": "u00qSgophPaq"
   },
   "outputs": [],
   "source": [
    "data_size = data_train.data.shape[0]\n",
    "validation_split = 0.1\n",
    "split = int(np.floor(validation_split * data_size))\n",
    "indices = list(range(data_size))\n",
    "np.random.seed(seed)\n",
    "np.random.shuffle(indices)\n",
    "\n",
    "train_indices, val_indices = indices[split:], indices[:split]\n",
    "torch.random.manual_seed(seed)\n",
    "train_sampler = SubsetRandomSampler(train_indices)\n",
    "torch.random.manual_seed(seed)\n",
    "val_sampler = SubsetRandomSampler(val_indices)\n",
    "\n",
    "train_loader = torch.utils.data.DataLoader(data_train, batch_size=batch_size_train, \n",
    "                                           sampler=train_sampler)\n",
    "val_loader = torch.utils.data.DataLoader(data_train, batch_size=batch_size_train,\n",
    "                                         sampler=val_sampler)"
   ]
  },
  {
   "cell_type": "code",
   "execution_count": 8,
   "metadata": {
    "colab": {},
    "colab_type": "code",
    "id": "GIHl8qUGhPdH"
   },
   "outputs": [],
   "source": [
    "test_loader = torch.utils.data.DataLoader(data_test, batch_size=batch_size_test)"
   ]
  },
  {
   "cell_type": "markdown",
   "metadata": {
    "colab_type": "text",
    "id": "q6OYdBxdhm0n"
   },
   "source": [
    "#### *Модели*"
   ]
  },
  {
   "cell_type": "code",
   "execution_count": 9,
   "metadata": {
    "colab": {},
    "colab_type": "code",
    "id": "4HOKFTVrjJQH"
   },
   "outputs": [],
   "source": [
    "lat_space_size=2\n",
    "dropout_p=0.1"
   ]
  },
  {
   "cell_type": "markdown",
   "metadata": {
    "colab_type": "text",
    "id": "YbZQZ86nhn4u"
   },
   "source": [
    "Возьмем в качестве бейзлайна модель с линейными слоями. "
   ]
  },
  {
   "cell_type": "code",
   "execution_count": 10,
   "metadata": {
    "colab": {},
    "colab_type": "code",
    "id": "hIjl1YzAhi_Q"
   },
   "outputs": [],
   "source": [
    "class Baseline_linear_VAE_model(nn.Module):\n",
    "    def __init__(self):\n",
    "        super(Baseline_linear_VAE_model, self).__init__()\n",
    "        self.encoder = nn.Sequential(\n",
    "            nn.Flatten(),\n",
    "            nn.Linear(784, 256),\n",
    "            nn.ReLU(),\n",
    "            nn.Dropout(p=dropout_p),\n",
    "            nn.Linear(256, 32),\n",
    "            nn.ReLU(),\n",
    "            nn.Dropout(p=dropout_p),\n",
    "        )\n",
    "\n",
    "        self.mu=nn.Linear(32, lat_space_size)\n",
    "        self.log_var=nn.Linear(32, lat_space_size)\n",
    "        self.out_linear=nn.Sequential(nn.Linear(lat_space_size, 32), nn.ReLU())\n",
    "\n",
    "        self.decoder = nn.Sequential(\n",
    "            nn.Linear(32, 256),\n",
    "            nn.ReLU(),\n",
    "            nn.Linear(256, 784),\n",
    "            nn.ReLU(),\n",
    "        )\n",
    "\n",
    "    def calculate_embedding(self, x):\n",
    "      enc=self.encoder(x)\n",
    "      mu=self.mu(enc)\n",
    "      log_var=self.log_var(enc)\n",
    "      emb = mu + torch.exp(log_var) * torch.randn_like(mu)\n",
    "      return emb, mu, log_var\n",
    "\n",
    "    def forward(self, x):\n",
    "      emb, mu, log_var = self.calculate_embedding(x)\n",
    "      return self.decoder(self.out_linear(emb)), mu, log_var"
   ]
  },
  {
   "cell_type": "markdown",
   "metadata": {
    "colab_type": "text",
    "id": "XmR5f2p-ipsG"
   },
   "source": [
    "В качестве бейзлайна с CNN возьмем простую модель"
   ]
  },
  {
   "cell_type": "code",
   "execution_count": 11,
   "metadata": {
    "colab": {},
    "colab_type": "code",
    "id": "qweaBW2XhjCY"
   },
   "outputs": [],
   "source": [
    "class Baseline_CNN_VAE_model(nn.Module):\n",
    "    def __init__(self):\n",
    "        super(Baseline_CNN_VAE_model, self).__init__()\n",
    "        self.encoder = nn.Sequential(\n",
    "            nn.Conv2d(1, 8, kernel_size=3, stride=2),\n",
    "            nn.LeakyReLU(),\n",
    "            nn.Dropout(p=dropout_p),\n",
    "            nn.BatchNorm2d(8),\n",
    "            nn.Conv2d(8, 16, kernel_size=3, stride=2),\n",
    "            nn.LeakyReLU(),\n",
    "            nn.Dropout(p=dropout_p),\n",
    "            nn.BatchNorm2d(16),\n",
    "\n",
    "            nn.Conv2d(16, 16, kernel_size=3, stride=2),\n",
    "            nn.LeakyReLU(),\n",
    "            nn.Dropout(p=dropout_p),\n",
    "            nn.BatchNorm2d(16),\n",
    "            nn.Flatten(),\n",
    "        )\n",
    "\n",
    "        self.mu=nn.Linear(64, lat_space_size)\n",
    "        self.log_var=nn.Linear(64, lat_space_size)\n",
    "        self.out_linear=nn.Sequential(nn.Linear(lat_space_size, 64), nn.ReLU())\n",
    "\n",
    "        self.decoder=nn.Sequential( \n",
    "            nn.ConvTranspose2d(16, 16, kernel_size = 4, stride = 2, padding = 1, output_padding=1), \n",
    "            nn.LeakyReLU(),\n",
    "            nn.ConvTranspose2d(16, 8, kernel_size = 4, stride = 2, padding =1, output_padding=1), \n",
    "            nn.LeakyReLU(),\n",
    "            nn.ConvTranspose2d(8, 1, kernel_size = 4, stride = 3, padding = 3),\n",
    "            nn.LeakyReLU()   \n",
    "        )\n",
    "\n",
    "    def calculate_embedding(self, x):\n",
    "      enc=self.encoder(x)\n",
    "      mu=self.mu(enc)\n",
    "      log_var=self.log_var(enc)\n",
    "      emb = mu + torch.exp(log_var) * torch.randn_like(mu)\n",
    "      return emb, mu, log_var\n",
    "\n",
    "    def forward(self, x):\n",
    "      emb, mu, log_var = self.calculate_embedding(x)\n",
    "      \n",
    "\n",
    "      return self.decoder(self.out_linear(emb).view(-1, 16, 2, 2)), mu, log_var"
   ]
  },
  {
   "cell_type": "markdown",
   "metadata": {
    "colab_type": "text",
    "id": "gOLddinWjeCW"
   },
   "source": [
    "Конечная модель получается почти такая же - увеличение количества conv слоев прироста не дает. Так что просто до определенного предела увеличиваем число каналов"
   ]
  },
  {
   "cell_type": "code",
   "execution_count": 12,
   "metadata": {
    "colab": {},
    "colab_type": "code",
    "id": "R7SadIp8hjFn"
   },
   "outputs": [],
   "source": [
    "class Main_CNN_VAE_model(nn.Module):\n",
    "    def __init__(self):\n",
    "        super(Main_CNN_VAE_model, self).__init__()\n",
    "        self.encoder = nn.Sequential(\n",
    "            nn.Conv2d(1, 32, kernel_size=3, stride=2),\n",
    "            nn.LeakyReLU(),\n",
    "            nn.Dropout(p=dropout_p),\n",
    "            nn.BatchNorm2d(32),\n",
    "            nn.Conv2d(32, 128, kernel_size=3, stride=2),\n",
    "            nn.LeakyReLU(),\n",
    "            nn.Dropout(p=dropout_p),\n",
    "            nn.BatchNorm2d(128),\n",
    "\n",
    "            nn.Conv2d(128, 128, kernel_size=3, stride=2),\n",
    "            nn.LeakyReLU(),\n",
    "            nn.Dropout(p=dropout_p),\n",
    "            nn.BatchNorm2d(128),\n",
    "\n",
    "            nn.Flatten(),\n",
    "            nn.Linear(512, 64),\n",
    "            nn.LeakyReLU(),\n",
    "            nn.Linear(64, 16),\n",
    "            nn.LeakyReLU()\n",
    "        )\n",
    "\n",
    "        self.mu=nn.Linear(16, lat_space_size)\n",
    "        self.log_var=nn.Linear(16, lat_space_size)\n",
    "        self.out_linear=nn.Sequential(nn.Linear(lat_space_size, 16), nn.LeakyReLU(),nn.Linear(16, 64), nn.LeakyReLU(), nn.Linear(64,512), nn.LeakyReLU())\n",
    "\n",
    "        self.decoder=nn.Sequential( \n",
    "            nn.ConvTranspose2d(128, 128, kernel_size = 4, stride = 2, padding = 1, output_padding=1), \n",
    "            nn.LeakyReLU(),\n",
    "            nn.ConvTranspose2d(128, 32, kernel_size = 4, stride = 2, padding =1, output_padding=1), \n",
    "            nn.LeakyReLU(),\n",
    "            nn.ConvTranspose2d(32, 1, kernel_size = 4, stride = 3, padding = 3),   \n",
    "            nn.LeakyReLU()\n",
    "        )\n",
    "\n",
    "    def calculate_embedding(self, x):\n",
    "      enc=self.encoder(x)\n",
    "      mu=self.mu(enc)\n",
    "      log_var=self.log_var(enc)\n",
    "      emb = mu + torch.exp(log_var) * torch.randn_like(mu)\n",
    "      return emb, mu, log_var\n",
    "\n",
    "    def forward(self, x):\n",
    "      emb, mu, log_var = self.calculate_embedding(x)\n",
    "      \n",
    "\n",
    "      return self.decoder(self.out_linear(emb).view(-1, 128, 2, 2)), mu, log_var"
   ]
  },
  {
   "cell_type": "markdown",
   "metadata": {
    "colab_type": "text",
    "id": "BB6SqZY7kGGv"
   },
   "source": [
    "#### *Тренировка моделей*"
   ]
  },
  {
   "cell_type": "markdown",
   "metadata": {
    "colab_type": "text",
    "id": "QJ2wMCEXkKOk"
   },
   "source": [
    "В общем, учитывая dropout, полной повторяемости не будет, но примерно результат в разных прогонах похожий...."
   ]
  },
  {
   "cell_type": "code",
   "execution_count": 13,
   "metadata": {
    "colab": {},
    "colab_type": "code",
    "id": "WmzbxbbvhjIQ"
   },
   "outputs": [],
   "source": [
    "def VAE_loss(x, x_target, mu, log_var):\n",
    "    sigma = torch.exp(log_var)\n",
    "    MSE = torch.pow(x_target - x, 2).sum() / x.size(0) #reconstruction loss\n",
    "    KLD = 0.5 * torch.sum(torch.pow(mu, 2) +torch.pow(sigma, 2) -torch.log(1e-8 + torch.pow(sigma, 2)) - 1).sum() / x.size(0)\n",
    "    return MSE+KLD"
   ]
  },
  {
   "cell_type": "code",
   "execution_count": 14,
   "metadata": {
    "colab": {},
    "colab_type": "code",
    "id": "J8vFwGQthjLh"
   },
   "outputs": [],
   "source": [
    "def train_model(model, train_loader, val_loader, optimizer, num_epochs, scheduler=None):    #take this\n",
    "    loss_history = []\n",
    "    val_loss_history=[]\n",
    "    for epoch in range(num_epochs):\n",
    "        model.train() # Enter train mode\n",
    "        \n",
    "        loss_accum = 0\n",
    "        val_loss_accum = 0\n",
    "\n",
    "        for i_step, (x, y) in enumerate(train_loader):\n",
    "            x_gpu = x.to(device)\n",
    "            x_pred, mu, log_var = model(x_gpu)   \n",
    "            loss_value = VAE_loss(x_gpu.reshape(-1,784), x_pred.reshape(-1,784), mu, log_var)\n",
    "            optimizer.zero_grad()\n",
    "            loss_value.backward()\n",
    "            optimizer.step()\n",
    "            loss_accum += loss_value\n",
    "\n",
    "        ave_loss = loss_accum / i_step\n",
    "        loss_history.append(float(ave_loss))\n",
    "\n",
    "        model.eval()\n",
    "        with torch.no_grad():\n",
    "          for i_val_step, (x, y) in enumerate(val_loader):\n",
    "            x_gpu = x.to(device)\n",
    "            x_pred, mu, log_var = model(x_gpu)   \n",
    "            val_loss_value = VAE_loss(x_gpu.reshape(-1,784), x_pred.reshape(-1,784), mu, log_var)\n",
    "            val_loss_accum += val_loss_value\n",
    "\n",
    "          ave_val_loss = val_loss_accum / i_val_step\n",
    "          val_loss_history.append(float(ave_val_loss))\n",
    "        \n",
    "        if scheduler is not None:\n",
    "          if isinstance(scheduler, optim.lr_scheduler.ReduceLROnPlateau):\n",
    "            scheduler.step(ave_val_loss)\n",
    "          else:\n",
    "            scheduler.step()\n",
    "        \n",
    "        print(\"Average loss: %f, average val loss: %f\" % (ave_loss, ave_val_loss))\n",
    "        \n",
    "    return loss_history, val_loss_history"
   ]
  },
  {
   "cell_type": "code",
   "execution_count": 15,
   "metadata": {
    "colab": {
     "base_uri": "https://localhost:8080/",
     "height": 1000
    },
    "colab_type": "code",
    "id": "RriEsEuZph93",
    "outputId": "eaa9a6bb-27ab-4006-b723-aba2ba40487a"
   },
   "outputs": [
    {
     "name": "stdout",
     "output_type": "stream",
     "text": [
      "Average loss: 591.905823, average val loss: 546.330444\n",
      "Average loss: 540.584412, average val loss: 527.071350\n",
      "Average loss: 522.130798, average val loss: 510.664337\n",
      "Average loss: 511.101532, average val loss: 504.463715\n",
      "Average loss: 506.370239, average val loss: 498.648712\n",
      "Average loss: 501.579437, average val loss: 495.446075\n",
      "Average loss: 498.677979, average val loss: 492.804688\n",
      "Average loss: 496.632660, average val loss: 491.194214\n",
      "Average loss: 494.463654, average val loss: 489.941071\n",
      "Average loss: 492.294922, average val loss: 486.378876\n",
      "Average loss: 489.854950, average val loss: 484.725372\n",
      "Average loss: 487.550049, average val loss: 482.205170\n",
      "Average loss: 485.856293, average val loss: 481.379730\n",
      "Average loss: 484.787140, average val loss: 480.289001\n",
      "Average loss: 483.687683, average val loss: 478.778809\n",
      "Average loss: 482.426758, average val loss: 477.348419\n",
      "Average loss: 480.715332, average val loss: 475.360474\n",
      "Average loss: 479.819946, average val loss: 473.716461\n",
      "Average loss: 478.749878, average val loss: 473.769867\n",
      "Average loss: 477.995300, average val loss: 472.891022\n",
      "Average loss: 477.195831, average val loss: 472.109894\n",
      "Average loss: 476.109955, average val loss: 470.701782\n",
      "Average loss: 474.834320, average val loss: 470.919250\n",
      "Average loss: 474.194824, average val loss: 470.561188\n",
      "Average loss: 473.748474, average val loss: 469.238556\n",
      "Average loss: 473.128876, average val loss: 468.735657\n",
      "Average loss: 472.720581, average val loss: 468.104889\n",
      "Average loss: 472.225159, average val loss: 468.052948\n",
      "Average loss: 471.526459, average val loss: 467.309296\n",
      "Average loss: 471.393921, average val loss: 466.647217\n",
      "Average loss: 470.589172, average val loss: 466.485291\n",
      "Average loss: 470.086670, average val loss: 465.095795\n",
      "Average loss: 469.784424, average val loss: 466.479340\n",
      "Average loss: 469.616638, average val loss: 463.871429\n",
      "Average loss: 469.175385, average val loss: 465.169495\n",
      "Average loss: 468.964081, average val loss: 464.930176\n",
      "Average loss: 468.744720, average val loss: 464.303558\n",
      "Average loss: 468.194397, average val loss: 464.011047\n",
      "Average loss: 468.320618, average val loss: 463.160217\n",
      "Average loss: 467.774292, average val loss: 463.517334\n",
      "Average loss: 467.697510, average val loss: 463.651428\n",
      "Average loss: 467.502106, average val loss: 464.523560\n",
      "Average loss: 467.180389, average val loss: 462.434906\n",
      "Average loss: 467.039520, average val loss: 462.839752\n",
      "Average loss: 466.834351, average val loss: 461.944092\n",
      "Average loss: 466.446350, average val loss: 462.630615\n",
      "Average loss: 466.580475, average val loss: 461.698334\n",
      "Average loss: 465.924591, average val loss: 462.251312\n",
      "Average loss: 465.602112, average val loss: 461.189362\n",
      "Average loss: 464.955078, average val loss: 460.608948\n",
      "Average loss: 460.979187, average val loss: 457.084717\n",
      "Average loss: 459.889526, average val loss: 457.058868\n",
      "Average loss: 459.515930, average val loss: 456.439423\n",
      "Average loss: 459.182922, average val loss: 456.490723\n",
      "Average loss: 459.146881, average val loss: 456.359894\n",
      "Average loss: 459.280701, average val loss: 456.588409\n",
      "Average loss: 458.704559, average val loss: 456.451782\n",
      "Average loss: 458.537354, average val loss: 456.330200\n",
      "Average loss: 458.511108, average val loss: 456.086487\n",
      "Average loss: 458.253876, average val loss: 455.914062\n",
      "Average loss: 458.319458, average val loss: 455.799347\n",
      "Average loss: 458.413208, average val loss: 455.755768\n",
      "Average loss: 458.071655, average val loss: 455.463165\n",
      "Average loss: 458.017395, average val loss: 455.657654\n",
      "Average loss: 458.174561, average val loss: 455.984772\n",
      "Average loss: 457.719574, average val loss: 455.671844\n",
      "Average loss: 457.930023, average val loss: 455.588440\n",
      "Average loss: 458.018494, average val loss: 455.388214\n",
      "Average loss: 457.827454, average val loss: 455.769501\n",
      "Average loss: 457.609131, average val loss: 455.572571\n"
     ]
    }
   ],
   "source": [
    "baseline_linear_VAE_model=Baseline_linear_VAE_model()\n",
    "optimizer = optim.Adam(baseline_linear_VAE_model.parameters(), lr=1e-3)\n",
    "scheduler = optim.lr_scheduler.StepLR(optimizer, 50, gamma=0.1)\n",
    "baseline_linear_VAE_model.to(device)\n",
    "baseline_linear_loss_history, baseline_linear_val_loss_history = train_model(baseline_linear_VAE_model, train_loader, val_loader, optimizer, 70, scheduler) "
   ]
  },
  {
   "cell_type": "code",
   "execution_count": 16,
   "metadata": {
    "colab": {
     "base_uri": "https://localhost:8080/",
     "height": 1000
    },
    "colab_type": "code",
    "id": "co9RMszjpiAi",
    "outputId": "7fc853e2-2729-4c4b-b69d-80116c7aeb7f"
   },
   "outputs": [
    {
     "name": "stdout",
     "output_type": "stream",
     "text": [
      "Average loss: 617.429443, average val loss: 557.287903\n",
      "Average loss: 529.042664, average val loss: 505.326447\n",
      "Average loss: 489.516449, average val loss: 474.417542\n",
      "Average loss: 469.633148, average val loss: 459.631134\n",
      "Average loss: 458.769073, average val loss: 450.671661\n",
      "Average loss: 452.374939, average val loss: 445.065002\n",
      "Average loss: 447.176910, average val loss: 439.909668\n",
      "Average loss: 442.921051, average val loss: 437.495514\n",
      "Average loss: 439.353729, average val loss: 432.631744\n",
      "Average loss: 436.528412, average val loss: 431.776367\n",
      "Average loss: 434.029724, average val loss: 425.571411\n",
      "Average loss: 431.564941, average val loss: 424.723846\n",
      "Average loss: 429.643585, average val loss: 422.447906\n",
      "Average loss: 427.822388, average val loss: 420.210358\n",
      "Average loss: 426.545410, average val loss: 419.097504\n",
      "Average loss: 425.262573, average val loss: 418.104492\n",
      "Average loss: 424.206177, average val loss: 415.851868\n",
      "Average loss: 422.653595, average val loss: 415.785858\n",
      "Average loss: 421.951508, average val loss: 412.764008\n",
      "Average loss: 421.039612, average val loss: 411.723755\n",
      "Average loss: 420.147797, average val loss: 412.078949\n",
      "Average loss: 419.221008, average val loss: 411.441711\n",
      "Average loss: 418.390381, average val loss: 409.869446\n",
      "Average loss: 417.908905, average val loss: 408.718323\n",
      "Average loss: 417.392944, average val loss: 408.551544\n",
      "Average loss: 416.336639, average val loss: 406.774139\n",
      "Average loss: 415.983582, average val loss: 407.629791\n",
      "Average loss: 414.842346, average val loss: 407.682617\n",
      "Average loss: 414.072937, average val loss: 405.059357\n",
      "Average loss: 413.640259, average val loss: 405.258759\n",
      "Average loss: 413.201538, average val loss: 405.824768\n",
      "Average loss: 412.215424, average val loss: 404.097534\n",
      "Average loss: 411.767670, average val loss: 402.541504\n",
      "Average loss: 411.497009, average val loss: 403.468079\n",
      "Average loss: 411.021057, average val loss: 402.211334\n",
      "Average loss: 410.547150, average val loss: 402.350586\n",
      "Average loss: 410.223969, average val loss: 400.250214\n",
      "Average loss: 409.511536, average val loss: 400.922424\n",
      "Average loss: 409.323547, average val loss: 399.525391\n",
      "Average loss: 408.477417, average val loss: 398.870331\n",
      "Average loss: 405.817047, average val loss: 396.691406\n",
      "Average loss: 405.234985, average val loss: 396.391144\n",
      "Average loss: 405.011932, average val loss: 396.305420\n",
      "Average loss: 405.295135, average val loss: 396.281311\n",
      "Average loss: 405.221527, average val loss: 396.241547\n",
      "Average loss: 405.013611, average val loss: 396.089294\n",
      "Average loss: 404.875305, average val loss: 395.955261\n",
      "Average loss: 404.626740, average val loss: 395.842194\n",
      "Average loss: 404.708740, average val loss: 395.922943\n",
      "Average loss: 404.693420, average val loss: 395.858612\n",
      "Average loss: 404.732269, average val loss: 395.875397\n",
      "Average loss: 404.440521, average val loss: 395.610901\n",
      "Average loss: 404.664642, average val loss: 395.746063\n",
      "Average loss: 404.405365, average val loss: 395.564972\n",
      "Average loss: 404.284973, average val loss: 395.224945\n",
      "Average loss: 404.227814, average val loss: 395.105103\n",
      "Average loss: 404.274170, average val loss: 395.329865\n",
      "Average loss: 404.450287, average val loss: 395.515533\n",
      "Average loss: 404.224396, average val loss: 395.047760\n",
      "Average loss: 404.201385, average val loss: 395.022858\n",
      "Average loss: 404.132355, average val loss: 394.907440\n",
      "Average loss: 403.949951, average val loss: 394.717987\n",
      "Average loss: 403.772858, average val loss: 394.723419\n",
      "Average loss: 403.749298, average val loss: 395.094727\n",
      "Average loss: 403.985626, average val loss: 394.581757\n",
      "Average loss: 403.953918, average val loss: 394.870331\n",
      "Average loss: 403.711426, average val loss: 394.556519\n",
      "Average loss: 403.720154, average val loss: 394.744690\n",
      "Average loss: 403.589752, average val loss: 394.484100\n",
      "Average loss: 403.832672, average val loss: 394.511017\n",
      "Average loss: 403.407166, average val loss: 394.504181\n",
      "Average loss: 403.620605, average val loss: 394.279572\n",
      "Average loss: 403.311890, average val loss: 394.376526\n",
      "Average loss: 403.549316, average val loss: 394.004974\n",
      "Average loss: 403.096985, average val loss: 394.167175\n",
      "Average loss: 403.215088, average val loss: 394.005859\n",
      "Average loss: 403.418579, average val loss: 394.163269\n",
      "Average loss: 403.545105, average val loss: 394.100800\n",
      "Average loss: 403.331146, average val loss: 394.017700\n",
      "Average loss: 403.013489, average val loss: 393.880981\n",
      "Average loss: 402.598541, average val loss: 393.760529\n",
      "Average loss: 402.847565, average val loss: 393.724915\n",
      "Average loss: 402.629517, average val loss: 393.725006\n",
      "Average loss: 402.634369, average val loss: 393.470978\n",
      "Average loss: 402.474670, average val loss: 393.852875\n",
      "Average loss: 402.665314, average val loss: 393.686096\n",
      "Average loss: 402.616913, average val loss: 393.711578\n",
      "Average loss: 402.517303, average val loss: 393.439880\n",
      "Average loss: 402.593506, average val loss: 393.621643\n",
      "Average loss: 402.834015, average val loss: 393.321899\n",
      "Average loss: 402.589783, average val loss: 393.619568\n",
      "Average loss: 402.610321, average val loss: 393.625275\n",
      "Average loss: 402.583160, average val loss: 394.009186\n",
      "Average loss: 402.550446, average val loss: 393.828217\n",
      "Average loss: 402.629242, average val loss: 393.465576\n",
      "Average loss: 402.626434, average val loss: 393.520813\n",
      "Average loss: 402.455658, average val loss: 393.675446\n",
      "Average loss: 402.865417, average val loss: 393.584045\n",
      "Average loss: 402.658264, average val loss: 393.359039\n",
      "Average loss: 402.426392, average val loss: 393.598907\n"
     ]
    }
   ],
   "source": [
    "baseline_CNN_VAE_model=Baseline_CNN_VAE_model()\n",
    "optimizer = optim.Adam(baseline_CNN_VAE_model.parameters(), lr=1e-3)\n",
    "scheduler = optim.lr_scheduler.StepLR(optimizer, 40, gamma=0.1)\n",
    "baseline_CNN_VAE_model.to(device)\n",
    "baseline_CNN_loss_history, baseline_CNN_val_loss_history = train_model(baseline_CNN_VAE_model, train_loader, val_loader, optimizer, 100, scheduler) "
   ]
  },
  {
   "cell_type": "code",
   "execution_count": 17,
   "metadata": {
    "colab": {
     "base_uri": "https://localhost:8080/",
     "height": 1000
    },
    "colab_type": "code",
    "id": "21AtqS1GpiDB",
    "outputId": "d229fc86-66d1-4f57-c94b-98389c840dbc"
   },
   "outputs": [
    {
     "name": "stdout",
     "output_type": "stream",
     "text": [
      "Average loss: 541.587585, average val loss: 443.443207\n",
      "Average loss: 416.369354, average val loss: 397.832428\n",
      "Average loss: 386.440491, average val loss: 377.443420\n",
      "Average loss: 369.155609, average val loss: 367.421661\n",
      "Average loss: 358.586151, average val loss: 355.863129\n",
      "Average loss: 350.901428, average val loss: 349.066101\n",
      "Average loss: 345.170807, average val loss: 343.669830\n",
      "Average loss: 340.721222, average val loss: 341.661407\n",
      "Average loss: 337.227661, average val loss: 337.900177\n",
      "Average loss: 334.503052, average val loss: 336.251953\n",
      "Average loss: 331.891266, average val loss: 331.789734\n",
      "Average loss: 329.181030, average val loss: 330.272095\n",
      "Average loss: 328.104218, average val loss: 329.263489\n",
      "Average loss: 325.904846, average val loss: 328.279083\n",
      "Average loss: 324.433319, average val loss: 325.783539\n",
      "Average loss: 322.937469, average val loss: 323.430359\n",
      "Average loss: 322.713196, average val loss: 324.433716\n",
      "Average loss: 320.956451, average val loss: 322.830536\n",
      "Average loss: 318.608093, average val loss: 321.517090\n",
      "Average loss: 317.424011, average val loss: 320.620087\n",
      "Average loss: 316.724762, average val loss: 317.572327\n",
      "Average loss: 315.490540, average val loss: 317.616821\n",
      "Average loss: 314.958893, average val loss: 316.301453\n",
      "Average loss: 314.317627, average val loss: 318.468170\n",
      "Average loss: 313.342896, average val loss: 315.783508\n",
      "Average loss: 312.543365, average val loss: 316.114105\n",
      "Average loss: 312.417114, average val loss: 314.729828\n",
      "Average loss: 310.971405, average val loss: 312.757141\n",
      "Average loss: 310.080353, average val loss: 312.880829\n",
      "Average loss: 309.938324, average val loss: 313.144043\n",
      "Average loss: 310.044617, average val loss: 312.949402\n",
      "Average loss: 309.020691, average val loss: 310.958344\n",
      "Average loss: 309.178314, average val loss: 311.865814\n",
      "Average loss: 308.372101, average val loss: 311.311310\n",
      "Average loss: 308.331909, average val loss: 310.211456\n",
      "Average loss: 307.734955, average val loss: 309.658813\n",
      "Average loss: 306.631348, average val loss: 309.365845\n",
      "Average loss: 306.325287, average val loss: 311.350677\n",
      "Average loss: 306.409424, average val loss: 309.876068\n",
      "Average loss: 305.754059, average val loss: 309.122955\n",
      "Average loss: 299.770355, average val loss: 303.192017\n",
      "Average loss: 298.415405, average val loss: 302.715454\n",
      "Average loss: 297.611328, average val loss: 302.145721\n",
      "Average loss: 297.200409, average val loss: 302.065979\n",
      "Average loss: 296.864960, average val loss: 301.868683\n",
      "Average loss: 296.387024, average val loss: 301.518005\n",
      "Average loss: 296.192322, average val loss: 301.544067\n",
      "Average loss: 295.956116, average val loss: 301.186981\n",
      "Average loss: 295.856781, average val loss: 300.739807\n",
      "Average loss: 295.720612, average val loss: 300.590240\n",
      "Average loss: 295.547668, average val loss: 300.284485\n",
      "Average loss: 295.210602, average val loss: 300.437775\n",
      "Average loss: 295.082245, average val loss: 300.468323\n",
      "Average loss: 294.948334, average val loss: 300.336060\n",
      "Average loss: 294.795563, average val loss: 300.260956\n",
      "Average loss: 294.737701, average val loss: 299.948303\n",
      "Average loss: 294.670044, average val loss: 300.302032\n",
      "Average loss: 294.499176, average val loss: 299.926361\n",
      "Average loss: 294.238586, average val loss: 299.747223\n",
      "Average loss: 294.448334, average val loss: 299.502380\n",
      "Average loss: 294.175751, average val loss: 299.804047\n",
      "Average loss: 293.933838, average val loss: 299.532379\n",
      "Average loss: 293.892822, average val loss: 299.891388\n",
      "Average loss: 293.759613, average val loss: 299.127594\n",
      "Average loss: 293.613281, average val loss: 299.721283\n",
      "Average loss: 293.423981, average val loss: 299.422821\n",
      "Average loss: 293.386871, average val loss: 299.169220\n",
      "Average loss: 293.285339, average val loss: 299.521637\n",
      "Average loss: 293.342590, average val loss: 298.883514\n",
      "Average loss: 293.189270, average val loss: 299.020477\n",
      "Average loss: 292.950378, average val loss: 299.113037\n",
      "Average loss: 292.936066, average val loss: 298.950317\n",
      "Average loss: 293.090149, average val loss: 299.124084\n",
      "Average loss: 292.855682, average val loss: 299.034912\n",
      "Average loss: 292.539185, average val loss: 298.804291\n",
      "Average loss: 292.750092, average val loss: 298.461426\n",
      "Average loss: 292.502502, average val loss: 298.554871\n",
      "Average loss: 292.355835, average val loss: 298.383484\n",
      "Average loss: 292.487335, average val loss: 297.893951\n",
      "Average loss: 292.168274, average val loss: 298.311005\n",
      "Average loss: 291.601379, average val loss: 297.225372\n",
      "Average loss: 291.452240, average val loss: 297.481201\n",
      "Average loss: 291.656860, average val loss: 297.457031\n",
      "Average loss: 291.430115, average val loss: 297.597229\n",
      "Average loss: 291.280426, average val loss: 297.387115\n",
      "Average loss: 291.416260, average val loss: 297.348602\n",
      "Average loss: 291.142517, average val loss: 297.395721\n",
      "Average loss: 291.335632, average val loss: 297.490143\n",
      "Average loss: 291.457153, average val loss: 297.681244\n",
      "Average loss: 291.218384, average val loss: 297.256165\n",
      "Average loss: 291.087494, average val loss: 297.248871\n",
      "Average loss: 291.407196, average val loss: 297.151001\n",
      "Average loss: 291.288177, average val loss: 297.313110\n",
      "Average loss: 291.130920, average val loss: 297.187073\n",
      "Average loss: 291.066559, average val loss: 297.521881\n",
      "Average loss: 291.020630, average val loss: 297.263611\n",
      "Average loss: 291.194519, average val loss: 297.361511\n",
      "Average loss: 291.165771, average val loss: 297.445923\n",
      "Average loss: 290.989227, average val loss: 297.645294\n",
      "Average loss: 291.173920, average val loss: 297.735107\n"
     ]
    }
   ],
   "source": [
    "main_CNN_VAE_model=Main_CNN_VAE_model()\n",
    "optimizer = optim.Adam(main_CNN_VAE_model.parameters(), lr=1e-3)\n",
    "scheduler = optim.lr_scheduler.StepLR(optimizer, 40, gamma=0.1)\n",
    "main_CNN_VAE_model.to(device)\n",
    "main_CNN_loss_history, main_CNN_val_loss_history = train_model(main_CNN_VAE_model, train_loader, val_loader, optimizer, 100, scheduler) "
   ]
  },
  {
   "cell_type": "markdown",
   "metadata": {
    "colab_type": "text",
    "id": "96zTYrYCrBYx"
   },
   "source": [
    "#### *Визуализация эмбеддингов*"
   ]
  },
  {
   "cell_type": "code",
   "execution_count": 18,
   "metadata": {
    "colab": {},
    "colab_type": "code",
    "id": "_2EK2-0jpiFy"
   },
   "outputs": [],
   "source": [
    "number_to_color = { 0: 'Brown', 1: 'Black', 2: 'Orange', 3:'Silver', 4: 'Pink', 5: 'Green', 6: 'Blue', 7:'Violet', 8: 'Magenta', 9: 'Cyan' }"
   ]
  },
  {
   "cell_type": "code",
   "execution_count": 19,
   "metadata": {
    "colab": {},
    "colab_type": "code",
    "id": "qK4Mom8HrFm1"
   },
   "outputs": [],
   "source": [
    "# Посчитаем эмбеддинги и средние значения (mu) для каждой цифры\n",
    "def get_embs_for_digit(model):\n",
    "  data_for_digit=torchvision.datasets.MNIST('/files/', train=False, download=True,\n",
    "                             transform=torchvision.transforms.Compose([torchvision.transforms.Grayscale(),\n",
    "                               torchvision.transforms.ToTensor(),\n",
    "                               torchvision.transforms.Normalize(mean, std)\n",
    "                             ]))\n",
    "  digits_to_embs={}\n",
    "  digits_to_mu={}\n",
    "\n",
    "  for i in range(10):\n",
    "    digits_to_embs[i]=[]\n",
    "    digits_to_mu[i]=[]\n",
    "\n",
    "\n",
    "  model.eval()\n",
    "  with torch.no_grad():\n",
    "    for i in range(10):\n",
    "      idx = data_test.targets== i\n",
    "      data_for_digit.targets = data_test.targets[idx]\n",
    "      data_for_digit.data = data_test.data[idx]\n",
    "      loader_for_digit = torch.utils.data.DataLoader(data_for_digit, batch_size=batch_size_test)\n",
    "      for i_step, (x, y) in enumerate(loader_for_digit):\n",
    "          x_gpu=x.to(device)\n",
    "          emb, mu, log_var = model.calculate_embedding(x_gpu)  \n",
    "          digits_to_embs[i].append(emb.cpu().numpy() )\n",
    "          digits_to_mu[i].append(mu.cpu().numpy() )\n",
    "\n",
    "  for i in range(10):\n",
    "    digits_to_embs[i] = np.concatenate(digits_to_embs[i], axis=0)\n",
    "    digits_to_mu[i] = np.concatenate(digits_to_mu[i], axis=0)\n",
    "\n",
    "  means=[]\n",
    "  mu_means=[]\n",
    "  for i in range(10):\n",
    "    means.append(np.mean(digits_to_embs[i], axis=0))\n",
    "    mu_means.append(np.mean(digits_to_mu[i], axis=0))\n",
    "\n",
    "  return digits_to_embs, digits_to_mu, means, mu_means"
   ]
  },
  {
   "cell_type": "code",
   "execution_count": 20,
   "metadata": {
    "colab": {},
    "colab_type": "code",
    "id": "TgEHy8mBrFo_"
   },
   "outputs": [],
   "source": [
    "def print_embs_with_centers(digits_to_embs, means):\n",
    "  for i in range(10):\n",
    "    plt.scatter(digits_to_embs[i][:, 0], digits_to_embs[i][:, 1], c=number_to_color[i])\n",
    "\n",
    "  # Чтобы 1 и 5 ничем не закрывало: Иногда цифры частично перекрываются, но 1 и 5 достаточно легко отличить :)\n",
    "  for i in [1, 5]:\n",
    "    plt.scatter(digits_to_embs[i][:, 0], digits_to_embs[i][:, 1], c=number_to_color[i])\n",
    "    plt.scatter(means[i][0], means[i][1], c='Red')\n",
    "\n",
    "  for i in [1, 5]:\n",
    "    plt.scatter(means[i][0], means[i][1], c='Red')\n",
    "\n",
    "  plt.plot([means[1][0], means[5][0]],[means[1][1], means[5][1]], c='Red')"
   ]
  },
  {
   "cell_type": "code",
   "execution_count": 21,
   "metadata": {
    "colab": {},
    "colab_type": "code",
    "id": "D_OCJ145rFro"
   },
   "outputs": [],
   "source": [
    "def print_two_embs_with_centers(digits_to_embs, means):\n",
    "  for i in [1, 5]:\n",
    "    plt.scatter(digits_to_embs[i][:, 0], digits_to_embs[i][:, 1], c=number_to_color[i])\n",
    "    plt.scatter(means[i][0], means[i][1], c='Red')\n",
    "\n",
    "  plt.plot([means[1][0], means[5][0]],[means[1][1], means[5][1]], c='Red')"
   ]
  },
  {
   "cell_type": "markdown",
   "metadata": {
    "colab_type": "text",
    "id": "wQypjxZB4gfo"
   },
   "source": [
    "***Бейзлайн 1: модель с линейными слоями***"
   ]
  },
  {
   "cell_type": "code",
   "execution_count": 22,
   "metadata": {
    "colab": {},
    "colab_type": "code",
    "id": "HCKiOItRrFxh"
   },
   "outputs": [],
   "source": [
    "digits_to_embs, digits_to_mu, means, mu_means = get_embs_for_digit(baseline_linear_VAE_model)"
   ]
  },
  {
   "cell_type": "markdown",
   "metadata": {
    "colab_type": "text",
    "id": "mm6qHMqc45dv"
   },
   "source": [
    "Посмотрим на эмбеддинги"
   ]
  },
  {
   "cell_type": "code",
   "execution_count": 23,
   "metadata": {
    "colab": {
     "base_uri": "https://localhost:8080/",
     "height": 268
    },
    "colab_type": "code",
    "id": "xb_FP9fZpiI1",
    "outputId": "b9f6524f-4ee3-4f31-c223-9131fe66ddbd"
   },
   "outputs": [
    {
     "data": {
      "image/png": "[encoded data removed]",
      "text/plain": [
       "<Figure size 432x288 with 1 Axes>"
      ]
     },
     "metadata": {
      "needs_background": "light",
      "tags": []
     },
     "output_type": "display_data"
    }
   ],
   "source": [
    "print_embs_with_centers(digits_to_embs, means)"
   ]
  },
  {
   "cell_type": "code",
   "execution_count": 24,
   "metadata": {
    "colab": {
     "base_uri": "https://localhost:8080/",
     "height": 265
    },
    "colab_type": "code",
    "id": "IxkibFHIhjOw",
    "outputId": "2233479a-b935-4cce-cbb9-144ac5e04261"
   },
   "outputs": [
    {
     "data": {
      "image/png": "[encoded data removed]",
      "text/plain": [
       "<Figure size 432x288 with 1 Axes>"
      ]
     },
     "metadata": {
      "needs_background": "light",
      "tags": []
     },
     "output_type": "display_data"
    }
   ],
   "source": [
    "#Чтобы эмбеддинги других цифр не мешали :)\n",
    "print_two_embs_with_centers(digits_to_embs, means)"
   ]
  },
  {
   "cell_type": "markdown",
   "metadata": {
    "colab_type": "text",
    "id": "3g4QlHQk5Z0n"
   },
   "source": [
    "Посмотрим на средние (mu) для эмбеддингов"
   ]
  },
  {
   "cell_type": "code",
   "execution_count": 25,
   "metadata": {
    "colab": {
     "base_uri": "https://localhost:8080/",
     "height": 267
    },
    "colab_type": "code",
    "id": "Jkvz846MhjRk",
    "outputId": "327dd4b0-4fe6-4fa0-aaf5-a83dc727cb81"
   },
   "outputs": [
    {
     "data": {
      "image/png": "[encoded data removed]",
      "text/plain": [
       "<Figure size 432x288 with 1 Axes>"
      ]
     },
     "metadata": {
      "needs_background": "light",
      "tags": []
     },
     "output_type": "display_data"
    }
   ],
   "source": [
    "print_embs_with_centers(digits_to_mu, mu_means)"
   ]
  },
  {
   "cell_type": "code",
   "execution_count": 26,
   "metadata": {
    "colab": {
     "base_uri": "https://localhost:8080/",
     "height": 265
    },
    "colab_type": "code",
    "id": "XSnmGad9hjWx",
    "outputId": "e5dc0fc6-e89a-4a62-daad-35f976e83f3b"
   },
   "outputs": [
    {
     "data": {
      "image/png": "[encoded data removed]",
      "text/plain": [
       "<Figure size 432x288 with 1 Axes>"
      ]
     },
     "metadata": {
      "needs_background": "light",
      "tags": []
     },
     "output_type": "display_data"
    }
   ],
   "source": [
    "print_two_embs_with_centers(digits_to_mu, mu_means)"
   ]
  },
  {
   "cell_type": "markdown",
   "metadata": {
    "colab_type": "text",
    "id": "FuBtL0rz5ruB"
   },
   "source": [
    "***Бейзлайн 2: модель с CNN слоями***"
   ]
  },
  {
   "cell_type": "code",
   "execution_count": 27,
   "metadata": {
    "colab": {},
    "colab_type": "code",
    "id": "vI4mn10051CA"
   },
   "outputs": [],
   "source": [
    "digits_to_embs, digits_to_mu, means, mu_means = get_embs_for_digit(baseline_CNN_VAE_model)"
   ]
  },
  {
   "cell_type": "markdown",
   "metadata": {
    "colab_type": "text",
    "id": "HcF-MKU-6CRn"
   },
   "source": [
    "Посмотрим на эмбеддинги"
   ]
  },
  {
   "cell_type": "code",
   "execution_count": 28,
   "metadata": {
    "colab": {
     "base_uri": "https://localhost:8080/",
     "height": 265
    },
    "colab_type": "code",
    "id": "Ns0e1ew66CRr",
    "outputId": "0a2152c0-8961-49d6-e844-ca752f3b78e7"
   },
   "outputs": [
    {
     "data": {
      "image/png": "[encoded data removed]",
      "text/plain": [
       "<Figure size 432x288 with 1 Axes>"
      ]
     },
     "metadata": {
      "needs_background": "light",
      "tags": []
     },
     "output_type": "display_data"
    }
   ],
   "source": [
    "print_embs_with_centers(digits_to_embs, means)"
   ]
  },
  {
   "cell_type": "code",
   "execution_count": 29,
   "metadata": {
    "colab": {
     "base_uri": "https://localhost:8080/",
     "height": 265
    },
    "colab_type": "code",
    "id": "YCDJGUFS6CRv",
    "outputId": "1bfdbde2-0aa4-4d75-e0cb-a24fc69ae23c"
   },
   "outputs": [
    {
     "data": {
      "image/png": "[encoded data removed]",
      "text/plain": [
       "<Figure size 432x288 with 1 Axes>"
      ]
     },
     "metadata": {
      "needs_background": "light",
      "tags": []
     },
     "output_type": "display_data"
    }
   ],
   "source": [
    "print_two_embs_with_centers(digits_to_embs, means)"
   ]
  },
  {
   "cell_type": "markdown",
   "metadata": {
    "colab_type": "text",
    "id": "7fknGq5B6CRx"
   },
   "source": [
    "Посмотрим на средние (mu) для эмбеддингов"
   ]
  },
  {
   "cell_type": "code",
   "execution_count": 30,
   "metadata": {
    "colab": {
     "base_uri": "https://localhost:8080/",
     "height": 265
    },
    "colab_type": "code",
    "id": "l1k2ecfr6CRy",
    "outputId": "377fe468-95c4-4514-a6b0-fba61e6fe356"
   },
   "outputs": [
    {
     "data": {
      "image/png": "[encoded data removed]",
      "text/plain": [
       "<Figure size 432x288 with 1 Axes>"
      ]
     },
     "metadata": {
      "needs_background": "light",
      "tags": []
     },
     "output_type": "display_data"
    }
   ],
   "source": [
    "print_embs_with_centers(digits_to_mu, mu_means)"
   ]
  },
  {
   "cell_type": "code",
   "execution_count": 31,
   "metadata": {
    "colab": {
     "base_uri": "https://localhost:8080/",
     "height": 265
    },
    "colab_type": "code",
    "id": "-ujsisVr6CR0",
    "outputId": "a324843c-cb65-4248-f9f2-dd8b6628b0b9"
   },
   "outputs": [
    {
     "data": {
      "image/png": "[encoded data removed]",
      "text/plain": [
       "<Figure size 432x288 with 1 Axes>"
      ]
     },
     "metadata": {
      "needs_background": "light",
      "tags": []
     },
     "output_type": "display_data"
    }
   ],
   "source": [
    "print_two_embs_with_centers(digits_to_mu, mu_means)"
   ]
  },
  {
   "cell_type": "markdown",
   "metadata": {
    "colab_type": "text",
    "id": "OthAzQ2A6EOX"
   },
   "source": [
    "***Основная модель***"
   ]
  },
  {
   "cell_type": "code",
   "execution_count": 32,
   "metadata": {
    "colab": {},
    "colab_type": "code",
    "id": "-js9aSMV6FNV"
   },
   "outputs": [],
   "source": [
    "digits_to_embs, digits_to_mu, means, mu_means = get_embs_for_digit(main_CNN_VAE_model)"
   ]
  },
  {
   "cell_type": "markdown",
   "metadata": {
    "colab_type": "text",
    "id": "PorUdJaS6GIa"
   },
   "source": [
    "Посмотрим на эмбеддинги"
   ]
  },
  {
   "cell_type": "code",
   "execution_count": 33,
   "metadata": {
    "colab": {
     "base_uri": "https://localhost:8080/",
     "height": 265
    },
    "colab_type": "code",
    "id": "qAq9aRXj6GId",
    "outputId": "56dcfdf7-a308-4059-c5db-511bbde32d0d"
   },
   "outputs": [
    {
     "data": {
      "image/png": "[encoded data removed]",
      "text/plain": [
       "<Figure size 432x288 with 1 Axes>"
      ]
     },
     "metadata": {
      "needs_background": "light",
      "tags": []
     },
     "output_type": "display_data"
    }
   ],
   "source": [
    "print_embs_with_centers(digits_to_embs, means)"
   ]
  },
  {
   "cell_type": "code",
   "execution_count": 34,
   "metadata": {
    "colab": {
     "base_uri": "https://localhost:8080/",
     "height": 265
    },
    "colab_type": "code",
    "id": "FwEqfuPG6GIg",
    "outputId": "354f6b3a-db84-4dce-9fe5-24d486069795"
   },
   "outputs": [
    {
     "data": {
      "image/png": "[encoded data removed]",
      "text/plain": [
       "<Figure size 432x288 with 1 Axes>"
      ]
     },
     "metadata": {
      "needs_background": "light",
      "tags": []
     },
     "output_type": "display_data"
    }
   ],
   "source": [
    "print_two_embs_with_centers(digits_to_embs, means)"
   ]
  },
  {
   "cell_type": "markdown",
   "metadata": {
    "colab_type": "text",
    "id": "6W4vVXeU6GIj"
   },
   "source": [
    "Посмотрим на средние (mu) для эмбеддингов"
   ]
  },
  {
   "cell_type": "code",
   "execution_count": 35,
   "metadata": {
    "colab": {
     "base_uri": "https://localhost:8080/",
     "height": 265
    },
    "colab_type": "code",
    "id": "Oh2KZHgs6GIj",
    "outputId": "04a028b1-7a6a-4abf-f36e-095cdea73142"
   },
   "outputs": [
    {
     "data": {
      "image/png": "[encoded data removed]",
      "text/plain": [
       "<Figure size 432x288 with 1 Axes>"
      ]
     },
     "metadata": {
      "needs_background": "light",
      "tags": []
     },
     "output_type": "display_data"
    }
   ],
   "source": [
    "print_embs_with_centers(digits_to_mu, mu_means)"
   ]
  },
  {
   "cell_type": "code",
   "execution_count": 36,
   "metadata": {
    "colab": {
     "base_uri": "https://localhost:8080/",
     "height": 265
    },
    "colab_type": "code",
    "id": "YPK1pJ0U6GIl",
    "outputId": "12e16f79-9f7b-40f7-eea2-7762d2d97dcf"
   },
   "outputs": [
    {
     "data": {
      "image/png": "[encoded data removed]",
      "text/plain": [
       "<Figure size 432x288 with 1 Axes>"
      ]
     },
     "metadata": {
      "needs_background": "light",
      "tags": []
     },
     "output_type": "display_data"
    }
   ],
   "source": [
    "print_two_embs_with_centers(digits_to_mu, mu_means)"
   ]
  },
  {
   "cell_type": "markdown",
   "metadata": {
    "colab_type": "text",
    "id": "Szy9WVvDlShx"
   },
   "source": [
    "В общем и целом, видно, что для моделей с меньшим лоссом эмбеддинги 1 и 5 расходятся (для последней модели они фактически разделены). \n",
    "\n",
    "Кроме того, явно проявляется 3 (серый цвет), примерно рядом с 8. А вот 4 и 9 разделяются плохо."
   ]
  },
  {
   "cell_type": "code",
   "execution_count": 36,
   "metadata": {
    "colab": {},
    "colab_type": "code",
    "id": "RzX7rlEdhBpJ"
   },
   "outputs": [],
   "source": []
  },
  {
   "cell_type": "code",
   "execution_count": 36,
   "metadata": {
    "colab": {},
    "colab_type": "code",
    "id": "40RHR01jhBvY"
   },
   "outputs": [],
   "source": []
  }
 ],
 "metadata": {
  "accelerator": "GPU",
  "colab": {
   "collapsed_sections": [],
   "name": "MNIST_VAE_embeddings_visualization.ipynb",
   "provenance": []
  },
  "kernelspec": {
   "display_name": "Python 3",
   "language": "python",
   "name": "python3"
  },
  "language_info": {
   "codemirror_mode": {
    "name": "ipython",
    "version": 3
   },
   "file_extension": ".py",
   "mimetype": "text/x-python",
   "name": "python",
   "nbconvert_exporter": "python",
   "pygments_lexer": "ipython3",
   "version": "3.7.1"
  },
  "widgets": {
   "application/vnd.jupyter.widget-state+json": {
    "08c32d701e624feeb276cdce17083579": {
     "model_module": "@jupyter-widgets/base",
     "model_name": "LayoutModel",
     "state": {
      "_model_module": "@jupyter-widgets/base",
      "_model_module_version": "1.2.0",
      "_model_name": "LayoutModel",
      "_view_count": null,
      "_view_module": "@jupyter-widgets/base",
      "_view_module_version": "1.2.0",
      "_view_name": "LayoutView",
      "align_content": null,
      "align_items": null,
      "align_self": null,
      "border": null,
      "bottom": null,
      "display": null,
      "flex": null,
      "flex_flow": null,
      "grid_area": null,
      "grid_auto_columns": null,
      "grid_auto_flow": null,
      "grid_auto_rows": null,
      "grid_column": null,
      "grid_gap": null,
      "grid_row": null,
      "grid_template_areas": null,
      "grid_template_columns": null,
      "grid_template_rows": null,
      "height": null,
      "justify_content": null,
      "justify_items": null,
      "left": null,
      "margin": null,
      "max_height": null,
      "max_width": null,
      "min_height": null,
      "min_width": null,
      "object_fit": null,
      "object_position": null,
      "order": null,
      "overflow": null,
      "overflow_x": null,
      "overflow_y": null,
      "padding": null,
      "right": null,
      "top": null,
      "visibility": null,
      "width": null
     }
    },
    "09420210b6eb4504b804fa0c1aa422b5": {
     "model_module": "@jupyter-widgets/base",
     "model_name": "LayoutModel",
     "state": {
      "_model_module": "@jupyter-widgets/base",
      "_model_module_version": "1.2.0",
      "_model_name": "LayoutModel",
      "_view_count": null,
      "_view_module": "@jupyter-widgets/base",
      "_view_module_version": "1.2.0",
      "_view_name": "LayoutView",
      "align_content": null,
      "align_items": null,
      "align_self": null,
      "border": null,
      "bottom": null,
      "display": null,
      "flex": null,
      "flex_flow": null,
      "grid_area": null,
      "grid_auto_columns": null,
      "grid_auto_flow": null,
      "grid_auto_rows": null,
      "grid_column": null,
      "grid_gap": null,
      "grid_row": null,
      "grid_template_areas": null,
      "grid_template_columns": null,
      "grid_template_rows": null,
      "height": null,
      "justify_content": null,
      "justify_items": null,
      "left": null,
      "margin": null,
      "max_height": null,
      "max_width": null,
      "min_height": null,
      "min_width": null,
      "object_fit": null,
      "object_position": null,
      "order": null,
      "overflow": null,
      "overflow_x": null,
      "overflow_y": null,
      "padding": null,
      "right": null,
      "top": null,
      "visibility": null,
      "width": null
     }
    },
    "0daaebb9643a4496975c6dd921d4698b": {
     "model_module": "@jupyter-widgets/base",
     "model_name": "LayoutModel",
     "state": {
      "_model_module": "@jupyter-widgets/base",
      "_model_module_version": "1.2.0",
      "_model_name": "LayoutModel",
      "_view_count": null,
      "_view_module": "@jupyter-widgets/base",
      "_view_module_version": "1.2.0",
      "_view_name": "LayoutView",
      "align_content": null,
      "align_items": null,
      "align_self": null,
      "border": null,
      "bottom": null,
      "display": null,
      "flex": null,
      "flex_flow": null,
      "grid_area": null,
      "grid_auto_columns": null,
      "grid_auto_flow": null,
      "grid_auto_rows": null,
      "grid_column": null,
      "grid_gap": null,
      "grid_row": null,
      "grid_template_areas": null,
      "grid_template_columns": null,
      "grid_template_rows": null,
      "height": null,
      "justify_content": null,
      "justify_items": null,
      "left": null,
      "margin": null,
      "max_height": null,
      "max_width": null,
      "min_height": null,
      "min_width": null,
      "object_fit": null,
      "object_position": null,
      "order": null,
      "overflow": null,
      "overflow_x": null,
      "overflow_y": null,
      "padding": null,
      "right": null,
      "top": null,
      "visibility": null,
      "width": null
     }
    },
    "0f8c2b872fcc4819bc09fb960232e51e": {
     "model_module": "@jupyter-widgets/base",
     "model_name": "LayoutModel",
     "state": {
      "_model_module": "@jupyter-widgets/base",
      "_model_module_version": "1.2.0",
      "_model_name": "LayoutModel",
      "_view_count": null,
      "_view_module": "@jupyter-widgets/base",
      "_view_module_version": "1.2.0",
      "_view_name": "LayoutView",
      "align_content": null,
      "align_items": null,
      "align_self": null,
      "border": null,
      "bottom": null,
      "display": null,
      "flex": null,
      "flex_flow": null,
      "grid_area": null,
      "grid_auto_columns": null,
      "grid_auto_flow": null,
      "grid_auto_rows": null,
      "grid_column": null,
      "grid_gap": null,
      "grid_row": null,
      "grid_template_areas": null,
      "grid_template_columns": null,
      "grid_template_rows": null,
      "height": null,
      "justify_content": null,
      "justify_items": null,
      "left": null,
      "margin": null,
      "max_height": null,
      "max_width": null,
      "min_height": null,
      "min_width": null,
      "object_fit": null,
      "object_position": null,
      "order": null,
      "overflow": null,
      "overflow_x": null,
      "overflow_y": null,
      "padding": null,
      "right": null,
      "top": null,
      "visibility": null,
      "width": null
     }
    },
    "21c41fd5f4cc46c6840f083629e1df42": {
     "model_module": "@jupyter-widgets/base",
     "model_name": "LayoutModel",
     "state": {
      "_model_module": "@jupyter-widgets/base",
      "_model_module_version": "1.2.0",
      "_model_name": "LayoutModel",
      "_view_count": null,
      "_view_module": "@jupyter-widgets/base",
      "_view_module_version": "1.2.0",
      "_view_name": "LayoutView",
      "align_content": null,
      "align_items": null,
      "align_self": null,
      "border": null,
      "bottom": null,
      "display": null,
      "flex": null,
      "flex_flow": null,
      "grid_area": null,
      "grid_auto_columns": null,
      "grid_auto_flow": null,
      "grid_auto_rows": null,
      "grid_column": null,
      "grid_gap": null,
      "grid_row": null,
      "grid_template_areas": null,
      "grid_template_columns": null,
      "grid_template_rows": null,
      "height": null,
      "justify_content": null,
      "justify_items": null,
      "left": null,
      "margin": null,
      "max_height": null,
      "max_width": null,
      "min_height": null,
      "min_width": null,
      "object_fit": null,
      "object_position": null,
      "order": null,
      "overflow": null,
      "overflow_x": null,
      "overflow_y": null,
      "padding": null,
      "right": null,
      "top": null,
      "visibility": null,
      "width": null
     }
    },
    "23c01d862fb3476f8dc51fef1c1762a7": {
     "model_module": "@jupyter-widgets/base",
     "model_name": "LayoutModel",
     "state": {
      "_model_module": "@jupyter-widgets/base",
      "_model_module_version": "1.2.0",
      "_model_name": "LayoutModel",
      "_view_count": null,
      "_view_module": "@jupyter-widgets/base",
      "_view_module_version": "1.2.0",
      "_view_name": "LayoutView",
      "align_content": null,
      "align_items": null,
      "align_self": null,
      "border": null,
      "bottom": null,
      "display": null,
      "flex": null,
      "flex_flow": null,
      "grid_area": null,
      "grid_auto_columns": null,
      "grid_auto_flow": null,
      "grid_auto_rows": null,
      "grid_column": null,
      "grid_gap": null,
      "grid_row": null,
      "grid_template_areas": null,
      "grid_template_columns": null,
      "grid_template_rows": null,
      "height": null,
      "justify_content": null,
      "justify_items": null,
      "left": null,
      "margin": null,
      "max_height": null,
      "max_width": null,
      "min_height": null,
      "min_width": null,
      "object_fit": null,
      "object_position": null,
      "order": null,
      "overflow": null,
      "overflow_x": null,
      "overflow_y": null,
      "padding": null,
      "right": null,
      "top": null,
      "visibility": null,
      "width": null
     }
    },
    "2de32c529cf1439e80cfc03c76b52a89": {
     "model_module": "@jupyter-widgets/controls",
     "model_name": "HBoxModel",
     "state": {
      "_dom_classes": [],
      "_model_module": "@jupyter-widgets/controls",
      "_model_module_version": "1.5.0",
      "_model_name": "HBoxModel",
      "_view_count": null,
      "_view_module": "@jupyter-widgets/controls",
      "_view_module_version": "1.5.0",
      "_view_name": "HBoxView",
      "box_style": "",
      "children": [
       "IPY_MODEL_4316b9b94ce049ae850afa17ac7633c9",
       "IPY_MODEL_7c5a28e04f0f4cfca58f53162fd9ce91"
      ],
      "layout": "IPY_MODEL_21c41fd5f4cc46c6840f083629e1df42"
     }
    },
    "336e66f868eb44d4930a9e6070f973d0": {
     "model_module": "@jupyter-widgets/base",
     "model_name": "LayoutModel",
     "state": {
      "_model_module": "@jupyter-widgets/base",
      "_model_module_version": "1.2.0",
      "_model_name": "LayoutModel",
      "_view_count": null,
      "_view_module": "@jupyter-widgets/base",
      "_view_module_version": "1.2.0",
      "_view_name": "LayoutView",
      "align_content": null,
      "align_items": null,
      "align_self": null,
      "border": null,
      "bottom": null,
      "display": null,
      "flex": null,
      "flex_flow": null,
      "grid_area": null,
      "grid_auto_columns": null,
      "grid_auto_flow": null,
      "grid_auto_rows": null,
      "grid_column": null,
      "grid_gap": null,
      "grid_row": null,
      "grid_template_areas": null,
      "grid_template_columns": null,
      "grid_template_rows": null,
      "height": null,
      "justify_content": null,
      "justify_items": null,
      "left": null,
      "margin": null,
      "max_height": null,
      "max_width": null,
      "min_height": null,
      "min_width": null,
      "object_fit": null,
      "object_position": null,
      "order": null,
      "overflow": null,
      "overflow_x": null,
      "overflow_y": null,
      "padding": null,
      "right": null,
      "top": null,
      "visibility": null,
      "width": null
     }
    },
    "3ef4be4f26214e6687877cf7b397238e": {
     "model_module": "@jupyter-widgets/controls",
     "model_name": "ProgressStyleModel",
     "state": {
      "_model_module": "@jupyter-widgets/controls",
      "_model_module_version": "1.5.0",
      "_model_name": "ProgressStyleModel",
      "_view_count": null,
      "_view_module": "@jupyter-widgets/base",
      "_view_module_version": "1.2.0",
      "_view_name": "StyleView",
      "bar_color": null,
      "description_width": "initial"
     }
    },
    "3fc02344eff245d3bed0ec7cd2263762": {
     "model_module": "@jupyter-widgets/base",
     "model_name": "LayoutModel",
     "state": {
      "_model_module": "@jupyter-widgets/base",
      "_model_module_version": "1.2.0",
      "_model_name": "LayoutModel",
      "_view_count": null,
      "_view_module": "@jupyter-widgets/base",
      "_view_module_version": "1.2.0",
      "_view_name": "LayoutView",
      "align_content": null,
      "align_items": null,
      "align_self": null,
      "border": null,
      "bottom": null,
      "display": null,
      "flex": null,
      "flex_flow": null,
      "grid_area": null,
      "grid_auto_columns": null,
      "grid_auto_flow": null,
      "grid_auto_rows": null,
      "grid_column": null,
      "grid_gap": null,
      "grid_row": null,
      "grid_template_areas": null,
      "grid_template_columns": null,
      "grid_template_rows": null,
      "height": null,
      "justify_content": null,
      "justify_items": null,
      "left": null,
      "margin": null,
      "max_height": null,
      "max_width": null,
      "min_height": null,
      "min_width": null,
      "object_fit": null,
      "object_position": null,
      "order": null,
      "overflow": null,
      "overflow_x": null,
      "overflow_y": null,
      "padding": null,
      "right": null,
      "top": null,
      "visibility": null,
      "width": null
     }
    },
    "3fd04c0ea5ea43adada35b6d1c0727ad": {
     "model_module": "@jupyter-widgets/base",
     "model_name": "LayoutModel",
     "state": {
      "_model_module": "@jupyter-widgets/base",
      "_model_module_version": "1.2.0",
      "_model_name": "LayoutModel",
      "_view_count": null,
      "_view_module": "@jupyter-widgets/base",
      "_view_module_version": "1.2.0",
      "_view_name": "LayoutView",
      "align_content": null,
      "align_items": null,
      "align_self": null,
      "border": null,
      "bottom": null,
      "display": null,
      "flex": null,
      "flex_flow": null,
      "grid_area": null,
      "grid_auto_columns": null,
      "grid_auto_flow": null,
      "grid_auto_rows": null,
      "grid_column": null,
      "grid_gap": null,
      "grid_row": null,
      "grid_template_areas": null,
      "grid_template_columns": null,
      "grid_template_rows": null,
      "height": null,
      "justify_content": null,
      "justify_items": null,
      "left": null,
      "margin": null,
      "max_height": null,
      "max_width": null,
      "min_height": null,
      "min_width": null,
      "object_fit": null,
      "object_position": null,
      "order": null,
      "overflow": null,
      "overflow_x": null,
      "overflow_y": null,
      "padding": null,
      "right": null,
      "top": null,
      "visibility": null,
      "width": null
     }
    },
    "403014039a604f91ad28821416f7156c": {
     "model_module": "@jupyter-widgets/base",
     "model_name": "LayoutModel",
     "state": {
      "_model_module": "@jupyter-widgets/base",
      "_model_module_version": "1.2.0",
      "_model_name": "LayoutModel",
      "_view_count": null,
      "_view_module": "@jupyter-widgets/base",
      "_view_module_version": "1.2.0",
      "_view_name": "LayoutView",
      "align_content": null,
      "align_items": null,
      "align_self": null,
      "border": null,
      "bottom": null,
      "display": null,
      "flex": null,
      "flex_flow": null,
      "grid_area": null,
      "grid_auto_columns": null,
      "grid_auto_flow": null,
      "grid_auto_rows": null,
      "grid_column": null,
      "grid_gap": null,
      "grid_row": null,
      "grid_template_areas": null,
      "grid_template_columns": null,
      "grid_template_rows": null,
      "height": null,
      "justify_content": null,
      "justify_items": null,
      "left": null,
      "margin": null,
      "max_height": null,
      "max_width": null,
      "min_height": null,
      "min_width": null,
      "object_fit": null,
      "object_position": null,
      "order": null,
      "overflow": null,
      "overflow_x": null,
      "overflow_y": null,
      "padding": null,
      "right": null,
      "top": null,
      "visibility": null,
      "width": null
     }
    },
    "4316b9b94ce049ae850afa17ac7633c9": {
     "model_module": "@jupyter-widgets/controls",
     "model_name": "FloatProgressModel",
     "state": {
      "_dom_classes": [],
      "_model_module": "@jupyter-widgets/controls",
      "_model_module_version": "1.5.0",
      "_model_name": "FloatProgressModel",
      "_view_count": null,
      "_view_module": "@jupyter-widgets/controls",
      "_view_module_version": "1.5.0",
      "_view_name": "ProgressView",
      "bar_style": "info",
      "description": "",
      "description_tooltip": null,
      "layout": "IPY_MODEL_336e66f868eb44d4930a9e6070f973d0",
      "max": 1,
      "min": 0,
      "orientation": "horizontal",
      "style": "IPY_MODEL_e9e11a2c35304557bc0b8d2ab43def40",
      "value": 1
     }
    },
    "48eea2b7d1f04637b43e8ee899c95150": {
     "model_module": "@jupyter-widgets/controls",
     "model_name": "ProgressStyleModel",
     "state": {
      "_model_module": "@jupyter-widgets/controls",
      "_model_module_version": "1.5.0",
      "_model_name": "ProgressStyleModel",
      "_view_count": null,
      "_view_module": "@jupyter-widgets/base",
      "_view_module_version": "1.2.0",
      "_view_name": "StyleView",
      "bar_color": null,
      "description_width": "initial"
     }
    },
    "5a614b8ff8494586a8f85fa4ee62c029": {
     "model_module": "@jupyter-widgets/controls",
     "model_name": "HTMLModel",
     "state": {
      "_dom_classes": [],
      "_model_module": "@jupyter-widgets/controls",
      "_model_module_version": "1.5.0",
      "_model_name": "HTMLModel",
      "_view_count": null,
      "_view_module": "@jupyter-widgets/controls",
      "_view_module_version": "1.5.0",
      "_view_name": "HTMLView",
      "description": "",
      "description_tooltip": null,
      "layout": "IPY_MODEL_08c32d701e624feeb276cdce17083579",
      "placeholder": "​",
      "style": "IPY_MODEL_dc1a8c37e71b4e2d9f873a2082a06ca3",
      "value": " 1654784/? [00:16&lt;00:00, 293219.22it/s]"
     }
    },
    "7c5a28e04f0f4cfca58f53162fd9ce91": {
     "model_module": "@jupyter-widgets/controls",
     "model_name": "HTMLModel",
     "state": {
      "_dom_classes": [],
      "_model_module": "@jupyter-widgets/controls",
      "_model_module_version": "1.5.0",
      "_model_name": "HTMLModel",
      "_view_count": null,
      "_view_module": "@jupyter-widgets/controls",
      "_view_module_version": "1.5.0",
      "_view_name": "HTMLView",
      "description": "",
      "description_tooltip": null,
      "layout": "IPY_MODEL_23c01d862fb3476f8dc51fef1c1762a7",
      "placeholder": "​",
      "style": "IPY_MODEL_e27aaa49fe444235a16864552a1ee10e",
      "value": " 9920512/? [00:20&lt;00:00, 2085571.38it/s]"
     }
    },
    "834467c7181e4ee3a0fb596007f35d2b": {
     "model_module": "@jupyter-widgets/controls",
     "model_name": "HBoxModel",
     "state": {
      "_dom_classes": [],
      "_model_module": "@jupyter-widgets/controls",
      "_model_module_version": "1.5.0",
      "_model_name": "HBoxModel",
      "_view_count": null,
      "_view_module": "@jupyter-widgets/controls",
      "_view_module_version": "1.5.0",
      "_view_name": "HBoxView",
      "box_style": "",
      "children": [
       "IPY_MODEL_bc3a44e32fb142c4a1c828368b32c94b",
       "IPY_MODEL_9445ac0b7a884328b31209e6e7ad5fd0"
      ],
      "layout": "IPY_MODEL_09420210b6eb4504b804fa0c1aa422b5"
     }
    },
    "91c8db6820ab46d19562aea9b3551bda": {
     "model_module": "@jupyter-widgets/controls",
     "model_name": "HBoxModel",
     "state": {
      "_dom_classes": [],
      "_model_module": "@jupyter-widgets/controls",
      "_model_module_version": "1.5.0",
      "_model_name": "HBoxModel",
      "_view_count": null,
      "_view_module": "@jupyter-widgets/controls",
      "_view_module_version": "1.5.0",
      "_view_name": "HBoxView",
      "box_style": "",
      "children": [
       "IPY_MODEL_ae31c9fce25e4d539e4c466509a5eade",
       "IPY_MODEL_5a614b8ff8494586a8f85fa4ee62c029"
      ],
      "layout": "IPY_MODEL_f3b07e3c29f840ae9031f3b737b2400b"
     }
    },
    "9445ac0b7a884328b31209e6e7ad5fd0": {
     "model_module": "@jupyter-widgets/controls",
     "model_name": "HTMLModel",
     "state": {
      "_dom_classes": [],
      "_model_module": "@jupyter-widgets/controls",
      "_model_module_version": "1.5.0",
      "_model_name": "HTMLModel",
      "_view_count": null,
      "_view_module": "@jupyter-widgets/controls",
      "_view_module_version": "1.5.0",
      "_view_name": "HTMLView",
      "description": "",
      "description_tooltip": null,
      "layout": "IPY_MODEL_0f8c2b872fcc4819bc09fb960232e51e",
      "placeholder": "​",
      "style": "IPY_MODEL_ac33ad231f7a48cca3875da6e330f02b",
      "value": " 32768/? [00:00&lt;00:00, 47436.52it/s]"
     }
    },
    "99103f216b874933b55c41af01091ce1": {
     "model_module": "@jupyter-widgets/controls",
     "model_name": "HTMLModel",
     "state": {
      "_dom_classes": [],
      "_model_module": "@jupyter-widgets/controls",
      "_model_module_version": "1.5.0",
      "_model_name": "HTMLModel",
      "_view_count": null,
      "_view_module": "@jupyter-widgets/controls",
      "_view_module_version": "1.5.0",
      "_view_name": "HTMLView",
      "description": "",
      "description_tooltip": null,
      "layout": "IPY_MODEL_3fd04c0ea5ea43adada35b6d1c0727ad",
      "placeholder": "​",
      "style": "IPY_MODEL_fb36604bdc7d446dbc06af2429d2c7de",
      "value": " 8192/? [00:00&lt;00:00, 11228.76it/s]"
     }
    },
    "ac33ad231f7a48cca3875da6e330f02b": {
     "model_module": "@jupyter-widgets/controls",
     "model_name": "DescriptionStyleModel",
     "state": {
      "_model_module": "@jupyter-widgets/controls",
      "_model_module_version": "1.5.0",
      "_model_name": "DescriptionStyleModel",
      "_view_count": null,
      "_view_module": "@jupyter-widgets/base",
      "_view_module_version": "1.2.0",
      "_view_name": "StyleView",
      "description_width": ""
     }
    },
    "ae31c9fce25e4d539e4c466509a5eade": {
     "model_module": "@jupyter-widgets/controls",
     "model_name": "FloatProgressModel",
     "state": {
      "_dom_classes": [],
      "_model_module": "@jupyter-widgets/controls",
      "_model_module_version": "1.5.0",
      "_model_name": "FloatProgressModel",
      "_view_count": null,
      "_view_module": "@jupyter-widgets/controls",
      "_view_module_version": "1.5.0",
      "_view_name": "ProgressView",
      "bar_style": "info",
      "description": "",
      "description_tooltip": null,
      "layout": "IPY_MODEL_c1c2dd21298a4f39a93b8fb836bceada",
      "max": 1,
      "min": 0,
      "orientation": "horizontal",
      "style": "IPY_MODEL_af6958ac345141ab94f3035c8a89891b",
      "value": 1
     }
    },
    "af6958ac345141ab94f3035c8a89891b": {
     "model_module": "@jupyter-widgets/controls",
     "model_name": "ProgressStyleModel",
     "state": {
      "_model_module": "@jupyter-widgets/controls",
      "_model_module_version": "1.5.0",
      "_model_name": "ProgressStyleModel",
      "_view_count": null,
      "_view_module": "@jupyter-widgets/base",
      "_view_module_version": "1.2.0",
      "_view_name": "StyleView",
      "bar_color": null,
      "description_width": "initial"
     }
    },
    "bc3a44e32fb142c4a1c828368b32c94b": {
     "model_module": "@jupyter-widgets/controls",
     "model_name": "FloatProgressModel",
     "state": {
      "_dom_classes": [],
      "_model_module": "@jupyter-widgets/controls",
      "_model_module_version": "1.5.0",
      "_model_name": "FloatProgressModel",
      "_view_count": null,
      "_view_module": "@jupyter-widgets/controls",
      "_view_module_version": "1.5.0",
      "_view_name": "ProgressView",
      "bar_style": "success",
      "description": "",
      "description_tooltip": null,
      "layout": "IPY_MODEL_3fc02344eff245d3bed0ec7cd2263762",
      "max": 1,
      "min": 0,
      "orientation": "horizontal",
      "style": "IPY_MODEL_3ef4be4f26214e6687877cf7b397238e",
      "value": 1
     }
    },
    "c1c2dd21298a4f39a93b8fb836bceada": {
     "model_module": "@jupyter-widgets/base",
     "model_name": "LayoutModel",
     "state": {
      "_model_module": "@jupyter-widgets/base",
      "_model_module_version": "1.2.0",
      "_model_name": "LayoutModel",
      "_view_count": null,
      "_view_module": "@jupyter-widgets/base",
      "_view_module_version": "1.2.0",
      "_view_name": "LayoutView",
      "align_content": null,
      "align_items": null,
      "align_self": null,
      "border": null,
      "bottom": null,
      "display": null,
      "flex": null,
      "flex_flow": null,
      "grid_area": null,
      "grid_auto_columns": null,
      "grid_auto_flow": null,
      "grid_auto_rows": null,
      "grid_column": null,
      "grid_gap": null,
      "grid_row": null,
      "grid_template_areas": null,
      "grid_template_columns": null,
      "grid_template_rows": null,
      "height": null,
      "justify_content": null,
      "justify_items": null,
      "left": null,
      "margin": null,
      "max_height": null,
      "max_width": null,
      "min_height": null,
      "min_width": null,
      "object_fit": null,
      "object_position": null,
      "order": null,
      "overflow": null,
      "overflow_x": null,
      "overflow_y": null,
      "padding": null,
      "right": null,
      "top": null,
      "visibility": null,
      "width": null
     }
    },
    "c44a2832a99842fbae252e6fb522033b": {
     "model_module": "@jupyter-widgets/controls",
     "model_name": "HBoxModel",
     "state": {
      "_dom_classes": [],
      "_model_module": "@jupyter-widgets/controls",
      "_model_module_version": "1.5.0",
      "_model_name": "HBoxModel",
      "_view_count": null,
      "_view_module": "@jupyter-widgets/controls",
      "_view_module_version": "1.5.0",
      "_view_name": "HBoxView",
      "box_style": "",
      "children": [
       "IPY_MODEL_fef51ccae87b44ba8c77ec5187ec029a",
       "IPY_MODEL_99103f216b874933b55c41af01091ce1"
      ],
      "layout": "IPY_MODEL_0daaebb9643a4496975c6dd921d4698b"
     }
    },
    "dc1a8c37e71b4e2d9f873a2082a06ca3": {
     "model_module": "@jupyter-widgets/controls",
     "model_name": "DescriptionStyleModel",
     "state": {
      "_model_module": "@jupyter-widgets/controls",
      "_model_module_version": "1.5.0",
      "_model_name": "DescriptionStyleModel",
      "_view_count": null,
      "_view_module": "@jupyter-widgets/base",
      "_view_module_version": "1.2.0",
      "_view_name": "StyleView",
      "description_width": ""
     }
    },
    "e27aaa49fe444235a16864552a1ee10e": {
     "model_module": "@jupyter-widgets/controls",
     "model_name": "DescriptionStyleModel",
     "state": {
      "_model_module": "@jupyter-widgets/controls",
      "_model_module_version": "1.5.0",
      "_model_name": "DescriptionStyleModel",
      "_view_count": null,
      "_view_module": "@jupyter-widgets/base",
      "_view_module_version": "1.2.0",
      "_view_name": "StyleView",
      "description_width": ""
     }
    },
    "e9e11a2c35304557bc0b8d2ab43def40": {
     "model_module": "@jupyter-widgets/controls",
     "model_name": "ProgressStyleModel",
     "state": {
      "_model_module": "@jupyter-widgets/controls",
      "_model_module_version": "1.5.0",
      "_model_name": "ProgressStyleModel",
      "_view_count": null,
      "_view_module": "@jupyter-widgets/base",
      "_view_module_version": "1.2.0",
      "_view_name": "StyleView",
      "bar_color": null,
      "description_width": "initial"
     }
    },
    "f3b07e3c29f840ae9031f3b737b2400b": {
     "model_module": "@jupyter-widgets/base",
     "model_name": "LayoutModel",
     "state": {
      "_model_module": "@jupyter-widgets/base",
      "_model_module_version": "1.2.0",
      "_model_name": "LayoutModel",
      "_view_count": null,
      "_view_module": "@jupyter-widgets/base",
      "_view_module_version": "1.2.0",
      "_view_name": "LayoutView",
      "align_content": null,
      "align_items": null,
      "align_self": null,
      "border": null,
      "bottom": null,
      "display": null,
      "flex": null,
      "flex_flow": null,
      "grid_area": null,
      "grid_auto_columns": null,
      "grid_auto_flow": null,
      "grid_auto_rows": null,
      "grid_column": null,
      "grid_gap": null,
      "grid_row": null,
      "grid_template_areas": null,
      "grid_template_columns": null,
      "grid_template_rows": null,
      "height": null,
      "justify_content": null,
      "justify_items": null,
      "left": null,
      "margin": null,
      "max_height": null,
      "max_width": null,
      "min_height": null,
      "min_width": null,
      "object_fit": null,
      "object_position": null,
      "order": null,
      "overflow": null,
      "overflow_x": null,
      "overflow_y": null,
      "padding": null,
      "right": null,
      "top": null,
      "visibility": null,
      "width": null
     }
    },
    "fb36604bdc7d446dbc06af2429d2c7de": {
     "model_module": "@jupyter-widgets/controls",
     "model_name": "DescriptionStyleModel",
     "state": {
      "_model_module": "@jupyter-widgets/controls",
      "_model_module_version": "1.5.0",
      "_model_name": "DescriptionStyleModel",
      "_view_count": null,
      "_view_module": "@jupyter-widgets/base",
      "_view_module_version": "1.2.0",
      "_view_name": "StyleView",
      "description_width": ""
     }
    },
    "fef51ccae87b44ba8c77ec5187ec029a": {
     "model_module": "@jupyter-widgets/controls",
     "model_name": "FloatProgressModel",
     "state": {
      "_dom_classes": [],
      "_model_module": "@jupyter-widgets/controls",
      "_model_module_version": "1.5.0",
      "_model_name": "FloatProgressModel",
      "_view_count": null,
      "_view_module": "@jupyter-widgets/controls",
      "_view_module_version": "1.5.0",
      "_view_name": "ProgressView",
      "bar_style": "success",
      "description": "",
      "description_tooltip": null,
      "layout": "IPY_MODEL_403014039a604f91ad28821416f7156c",
      "max": 1,
      "min": 0,
      "orientation": "horizontal",
      "style": "IPY_MODEL_48eea2b7d1f04637b43e8ee899c95150",
      "value": 1
     }
    }
   }
  }
 },
 "nbformat": 4,
 "nbformat_minor": 1
}
